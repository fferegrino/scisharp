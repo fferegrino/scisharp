{
 "cells": [
  {
   "cell_type": "markdown",
   "metadata": {},
   "source": [
    "# Central Limit Theorem"
   ]
  },
  {
   "cell_type": "markdown",
   "metadata": {},
   "source": [
    "El **teorema del límite central** es un concepto estadístico que está en el foco de mucha de la ciencia de datos, en especial la que se dedica a realizar experimentación y la creación de modelos predictivos.\n",
    "\n",
    "El *Central Limit Theorem* nos dice que:\n",
    "\n",
    " > Dado un conjunto de datos, cuya distribución es desconocida, los promedios de muestras tomadas de este conjunto se aproximarán a una distribución normal. Admás, el promedio de los promedios de todas las muestras será aproximadamente igual al promedio de la distribución original.\n",
    " \n",
    "Sí, suena muy complicado... creo que es mejor explicarlo con una pequeña simulación."
   ]
  },
  {
   "cell_type": "markdown",
   "metadata": {},
   "source": [
    "## Simulación\n",
    "\n",
    "Antes de comenzar, quiero dejar en claro la diferencia entre esta simulación y la vida real:\n",
    "\n",
    " - En la simulación tenemos acceso a la población completa. **En la vida real muy rara vez se tiene acceso a la población completa.**\n",
    " - En la simulación podemos tomar tantas muestras como queramos. **En la vida real muchas veces tenemos acceso a una sola muestra**.\n",
    "\n",
    "Con esto fuera del camino, podemos comenzar.\n",
    "\n",
    "### Científico Pokemon!\n",
    "\n",
    "Imagina que te han encargado **encontrar cuál es el peso promedio de un Pokémon**. No suena a una tarea sencilla, ya que hay muchísimos (por el momento digamos que hay $1,000,000$) y atraparlos a todos para pesarlos no es una tarea sencilla, sin embargo el teorema del límite central nos puede ayudar.\n",
    "\n",
    "Para nuestra simulación tendremos todos los pesos de los pokémon en la variable `population` (recuerda que tenemos acceso a toda la población porque esta es una simulación)."
   ]
  },
  {
   "cell_type": "code",
   "execution_count": null,
   "metadata": {},
   "outputs": [],
   "source": [
    "// Algunos paquetes y using necesarios...\n",
    "#r \"nuget:MathNet.Numerics, 4.9.0\"\n",
    "#r \"nuget:NumSharp, 0.20.4\"\n",
    "    \n",
    "using System;\n",
    "using NumSharp;\n",
    "using MathNet.Numerics.Distributions;\n",
    "using System.Linq;\n",
    "using System.Collections;\n",
    "using System.Collections.Generic;\n",
    "using XPlot.Plotly;\n",
    "using static XPlot.Plotly.Graph;\n",
    "using MathNet.Numerics;\n",
    "using KernelDensity = MathNet.Numerics.Statistics.KernelDensity;\n",
    "using Histogram = MathNet.Numerics.Statistics.Histogram;"
   ]
  },
  {
   "cell_type": "code",
   "execution_count": null,
   "metadata": {},
   "outputs": [],
   "source": [
    "NDArray ToNDArray(IEnumerable<double> data, int populationSize)\n",
    "{\n",
    "    return np.array(data.Take(populationSize).ToArray());\n",
    "}\n",
    "\n",
    "NDArray GetPokemonPopulation(int populationSize)\n",
    "{\n",
    "    var norm1 = ToNDArray(Normal.Samples(2, 2), populationSize);\n",
    "    var norm2 = ToNDArray(Normal.Samples(15, 1), populationSize);\n",
    "    norm1 = norm1 - norm1.min();\n",
    "    var combined = np.concatenate(new[] { norm1, norm2 });\n",
    "    var uniform = ToNDArray(ContinuousUniform.Samples(0, 5), 2 * populationSize);\n",
    "\n",
    "    return uniform + combined;\n",
    "}\n",
    "\n",
    "var population = GetPokemonPopulation(10000);\n",
    "// TODO: Print stats"
   ]
  },
  {
   "cell_type": "code",
   "execution_count": null,
   "metadata": {},
   "outputs": [],
   "source": [
    "\n",
    "NDArray Kde(NDArray data, NDArray xaxis)\n",
    "{\n",
    "    int points = xaxis.shape[0];\n",
    "    var samples = data.ToArray<double>();\n",
    "    var xs = xaxis.ToArray<double>();\n",
    "    var kde = np.zeros(points);\n",
    "    for (int i = 0; i < xs.Length; i++)\n",
    "    {\n",
    "        var y = KernelDensity.EstimateGaussian(xs[i], 0.5, samples);\n",
    "        kde.SetAtIndex(y, i);\n",
    "    }\n",
    "    return kde;\n",
    "}\n",
    "\n",
    "Scatter KdePlot(NDArray data, Histogram histogram)\n",
    "{\n",
    "    var kdex = np.linspace(histogram.LowerBound, histogram.UpperBound, 100, typeCode: NPTypeCode.Double);\n",
    "    var kdey = Kde(data, kdex);\n",
    "    return new Scatter\n",
    "    {\n",
    "        x = kdex,\n",
    "        y = kdey,\n",
    "        name = $\"KDE\"\n",
    "    };\n",
    "}\n",
    "\n",
    "Tuple<Bar, NDArray, NDArray> HistPlot(NDArray data, Histogram histogram)\n",
    "{\n",
    "    var bins = histogram.BucketCount;\n",
    "    var classWidth = (np.max(data) - np.min(data)).GetDouble() / bins;\n",
    "    var xHist = np.zeros(bins);\n",
    "    var yHist = np.zeros(bins);\n",
    "\n",
    "    for (int i = 0; i < bins; i++)\n",
    "    {\n",
    "        var bucket = histogram[i];\n",
    "        xHist.SetAtIndex((bucket.LowerBound + bucket.UpperBound) / 2, i);\n",
    "        yHist.SetAtIndex(bucket.Count, i);\n",
    "    }\n",
    "    yHist = yHist / np.sum(yHist) / classWidth;\n",
    "\n",
    "    var barPlot = new Bar() { x = xHist, y = yHist, name=\"\" };\n",
    "\n",
    "    return new Tuple<Bar, NDArray, NDArray>(barPlot, xHist, yHist);\n",
    "}\n",
    "\n",
    "PlotlyChart CreateChart(NDArray data, string name, int bins)\n",
    "{\n",
    "    var mean = data.mean().GetAtIndex<double>(0);\n",
    "    var histogram = new Histogram(data.ToArray<double>(), bins);\n",
    "\n",
    "    (Bar histPlot, NDArray xHist, NDArray yHist) = HistPlot(data, histogram);\n",
    "    var kdePlot = KdePlot(data, histogram);\n",
    "\n",
    "    var meanLine = new Scatter\n",
    "    {\n",
    "        x = new[] { mean, mean },\n",
    "        y = new[] { 0, yHist.max<double>() },\n",
    "        name = $\"Mean {mean::0.####}\"\n",
    "    };\n",
    "\n",
    "    var layout = new Layout.Layout\n",
    "    {\n",
    "        title = name,\n",
    "        xaxis = new Xaxis { title = name },\n",
    "        yaxis = new Yaxis { title = \"Frequency\" },\n",
    "        bargap = 0\n",
    "    };\n",
    "\n",
    "    var chart = Chart.Plot(new List<Trace> { histPlot, meanLine, kdePlot });\n",
    "    chart.WithLayout(layout);\n",
    "\n",
    "    return chart;\n",
    "}\n",
    "\n",
    "display(CreateChart(population, \"Distribution\", 40))"
   ]
  },
  {
   "cell_type": "markdown",
   "metadata": {},
   "source": [
    "### El teorema al rescate  \n",
    "\n",
    "Imagina que tomas una muestra (`sample`) de... digamos 30 pokémon, y tomas el promedio de esta:"
   ]
  },
  {
   "cell_type": "code",
   "execution_count": null,
   "metadata": {},
   "outputs": [],
   "source": [
    "var sampleSize = 30;\n",
    "double SampleMean(NDArray data, int sampleSize)\n",
    "{\n",
    "    var shape = new NumSharp.Shape(sampleSize);\n",
    "    var sample = np.random.choice(data, shape: shape);\n",
    "    return sample.mean();\n",
    "}\n",
    "\n",
    "SampleMean(population, sampleSize)"
   ]
  },
  {
   "cell_type": "markdown",
   "metadata": {},
   "source": [
    "Puede que el promedio de la muestra esté cerca del verdadero promedio de la población... ¿así que qué pasa si **tomas otras tantas muestras (`numSamples`), sacas el promedio de cada una y creas una grafica de distribución con ellas**? a esto último se le conoce en inglés como *sample means distribution*, al final de cuentas vamos a terminar con otra población de promedios de muestras en nuestra variable `sampleMeans`, y como tal la podemos graficar:"
   ]
  },
  {
   "cell_type": "code",
   "execution_count": null,
   "metadata": {},
   "outputs": [],
   "source": [
    "var numSamples = 1000;\n",
    "\n",
    "NDArray GetSampleMeans(NDArray data, int numSamples, int sampleSize)\n",
    "{\n",
    "    var means = np.zeros(numSamples);\n",
    "    var shape = new NumSharp.Shape(sampleSize);\n",
    "    for (int i = 0; i < numSamples; i++)\n",
    "    {\n",
    "        var sample = np.random.choice(data, shape: shape);\n",
    "        means.SetAtIndex<double>(sample.mean(), i);\n",
    "    }\n",
    "    return means;\n",
    "}\n",
    "\n",
    "var sampleMeans = GetSampleMeans(population, numSamples, sampleSize);\n",
    "\n",
    "display(CreateChart(sampleMeans, \"Distribution\", 40))"
   ]
  },
  {
   "cell_type": "markdown",
   "metadata": {},
   "source": [
    "Si miras nuevamente la gráfica, podrás notar que tiene **una forma bastante conocida**: la de una campana, sí, como **una distribución normal**. Y algo aún más notable, el promedio de es aproximadamente igual al promedio de nuestra distribución original.\n",
    "\n",
    "No importa qué distribución inicial tomemos, si seguimos el procedimiento de tomar muestras y sacar su promedio, terminaremos con una curva de distribución normal, cuyo promedio será muy aproximado al de la distribución original.\n",
    "\n",
    "Un poco más formal:\n",
    "\n",
    " > Si tomamos muestras de tamaño n de una población y calculamos el promedio de cada una de esas muestras, no importa la forma de la distribución original de la población, la distribución de promedios seguirá una distribución normal.  \n",
    " \n",
    "### Volviendo a los pokémon\n",
    "\n",
    "Este teorema nos permite, con ayuda de la estadística, a tomar una sola muestra y usar el promedio de ella para poder aproximar (con cierto grado de error) el promedio de la población original."
   ]
  },
  {
   "cell_type": "markdown",
   "metadata": {},
   "source": [
    "## Más ejemplos  \n",
    "\n",
    "Para probar el teorema, podemos tomar como base diferentes distribuciones:"
   ]
  },
  {
   "cell_type": "code",
   "execution_count": null,
   "metadata": {},
   "outputs": [],
   "source": []
  }
 ],
 "metadata": {
  "kernelspec": {
   "display_name": ".NET (C#)",
   "language": "C#",
   "name": ".net-csharp"
  },
  "language_info": {
   "file_extension": ".cs",
   "mimetype": "text/x-csharp",
   "name": "C#",
   "pygments_lexer": "csharp",
   "version": "8.0"
  }
 },
 "nbformat": 4,
 "nbformat_minor": 4
}
