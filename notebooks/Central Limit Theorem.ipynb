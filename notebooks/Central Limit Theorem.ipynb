{
 "cells": [
  {
   "cell_type": "code",
   "execution_count": null,
   "metadata": {},
   "outputs": [],
   "source": [
    "#r \"nuget:MathNet.Numerics, 4.9.0\""
   ]
  },
  {
   "cell_type": "code",
   "execution_count": null,
   "metadata": {},
   "outputs": [],
   "source": [
    "using MathNet.Numerics.Distributions;\n",
    "using XPlot.Plotly;\n",
    "using static XPlot.Plotly.Graph;\n",
    "using System.Collections.Generic;"
   ]
  },
  {
   "cell_type": "code",
   "execution_count": null,
   "metadata": {},
   "outputs": [],
   "source": [
    "PlotlyChart CreateChart(IEnumerable<Double> data, string name, int bins)\n",
    "{\n",
    "    var histogram = new Graph.Histogram\n",
    "    {\n",
    "        x = data,\n",
    "        histnorm = \"probability density\",\n",
    "        nbinsx = bins,\n",
    "        opacity = 0.75\n",
    "    };\n",
    "\n",
    "    var xaxis = new Xaxis { title = name };\n",
    "    var yaxis = new Yaxis { title = \"Frequency\" };\n",
    "    var layout = new Layout.Layout\n",
    "    {\n",
    "        title = name,\n",
    "        xaxis = xaxis,\n",
    "        yaxis = yaxis\n",
    "    };\n",
    "\n",
    "    var plots = new List<Graph.Histogram> { histogram };\n",
    "\n",
    "    var chart = Chart.Plot(plots);\n",
    "    chart.WithLayout(layout);\n",
    "\n",
    "    return chart;\n",
    "}"
   ]
  },
  {
   "cell_type": "code",
   "execution_count": null,
   "metadata": {},
   "outputs": [],
   "source": [
    "var populationSize = 10000;\n",
    "var bins = 30;"
   ]
  },
  {
   "cell_type": "code",
   "execution_count": null,
   "metadata": {},
   "outputs": [],
   "source": [
    "var lower = 10;\n",
    "var upper = 30;\n",
    "var dataUniform = new Double[populationSize];\n",
    "ContinuousUniform.Samples(dataUniform, lower, upper);"
   ]
  },
  {
   "cell_type": "code",
   "execution_count": null,
   "metadata": {},
   "outputs": [],
   "source": [
    "var c = CreateChart(dataUniform, \"Uniform\", bins);\n",
    "display(c);"
   ]
  },
  {
   "cell_type": "code",
   "execution_count": null,
   "metadata": {},
   "outputs": [],
   "source": []
  }
 ],
 "metadata": {
  "kernelspec": {
   "display_name": ".NET (C#)",
   "language": "C#",
   "name": ".net-csharp"
  },
  "language_info": {
   "file_extension": ".cs",
   "mimetype": "text/x-csharp",
   "name": "C#",
   "pygments_lexer": "csharp",
   "version": "8.0"
  }
 },
 "nbformat": 4,
 "nbformat_minor": 4
}
